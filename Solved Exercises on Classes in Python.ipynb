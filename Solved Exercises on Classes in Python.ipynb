{
 "cells": [
  {
   "cell_type": "code",
   "execution_count": 27,
   "id": "5c050bac-ff51-46da-be68-1139fbe16fed",
   "metadata": {},
   "outputs": [
    {
     "name": "stdout",
     "output_type": "stream",
     "text": [
      "Ahmad\n",
      "Ahmad likes to eat apple.\n"
     ]
    }
   ],
   "source": [
    "# 1. Create a class Person with attributes name, age, and city.\n",
    "\n",
    "# Define the Person class\n",
    "class Person:\n",
    "    # Initialize the Person object with name, age, and city attributes\n",
    "    def __init__(self, name, age, city):\n",
    "        self.name = name  \n",
    "        self.age = age  \n",
    "        self.city = city  \n",
    "    # Define a method for the Person class\n",
    "    def eat(self):\n",
    "        print(f\"{self.name} likes to eat apple.\")\n",
    "\n",
    "# Create an instance of the Person class\n",
    "person_1 = Person(\"Ahmad\", 19, \"Phalia\")\n",
    "\n",
    "# Print the name attribute of the person_1 instance\n",
    "print(person_1.name) \n",
    "person_1.eat()  "
   ]
  },
  {
   "cell_type": "code",
   "execution_count": 36,
   "id": "1d65454a-885c-4d64-92fb-2705fdaa5608",
   "metadata": {},
   "outputs": [
    {
     "name": "stdout",
     "output_type": "stream",
     "text": [
      "Toyota\n",
      "Camry\n",
      "2025\n"
     ]
    }
   ],
   "source": [
    "# 2. Create a class Car with attributes make, model, and year.\n",
    "\n",
    "# Define the Car class\n",
    "class Car:\n",
    "    # Initialize the Car object with make, model, and year attributes\n",
    "    def __init__(self, make, model, year):\n",
    "        self.make = make  \n",
    "        self.model = model  \n",
    "        self.year = year \n",
    "\n",
    "# Create an instance of the Car class\n",
    "car = Car(\"Toyota\", \"Camry\", 2025)\n",
    "\n",
    "# Print the attributes of the car instance\n",
    "print(car.make)   \n",
    "print(car.model)  \n",
    "print(car.year)   \n"
   ]
  },
  {
   "cell_type": "code",
   "execution_count": 37,
   "id": "f4b28fab-c127-4ca3-a412-b7b09241583e",
   "metadata": {},
   "outputs": [
    {
     "name": "stdout",
     "output_type": "stream",
     "text": [
      "Bilal is an adult.\n",
      "Bilal can drive a car.\n"
     ]
    }
   ],
   "source": [
    "class Human:\n",
    "    def __init__(self, name):\n",
    "        self.name = name\n",
    "\n",
    "    def adult(self):\n",
    "        print(f\"{self.name} is an adult.\")\n",
    "\n",
    "class Person(Human):\n",
    "    def drive(self):\n",
    "        print(f\"{self.name} can drive a car.\")\n",
    "\n",
    "p = Person(\"Bilal\")\n",
    "p.adult()  \n",
    "p.drive()  \n"
   ]
  },
  {
   "cell_type": "code",
   "execution_count": 4,
   "id": "89a21035-50c3-4154-a03e-99ebf59a47d7",
   "metadata": {},
   "outputs": [
    {
     "name": "stdout",
     "output_type": "stream",
     "text": [
      "Area: 78.53981633974483\n",
      "Circumference: 31.41592653589793\n"
     ]
    }
   ],
   "source": [
    "# 3. Create a class Circle with attributes radius and methods to calculate area and circumference.\n",
    "\n",
    "import math\n",
    "class circle:\n",
    "    def __init__(self, radius):\n",
    "        self.radius = radius\n",
    "    def area(self):\n",
    "        return math.pi * (self.radius ** 2)\n",
    "    def circumference(self):\n",
    "        return 2 * math.pi * self.radius\n",
    "circle = circle(5)\n",
    "print(\"Area:\", circle.area())  \n",
    "print(\"Circumference:\", circle.circumference())\n"
   ]
  },
  {
   "cell_type": "code",
   "execution_count": 14,
   "id": "7d72a376",
   "metadata": {},
   "outputs": [
    {
     "name": "stdout",
     "output_type": "stream",
     "text": [
      "Area: 2\n",
      "Perimeter: 6\n"
     ]
    }
   ],
   "source": [
    "# 4. Create a class Rectangle with attributes length and width and methods to calculate area and perimeter.\n",
    "\n",
    "import math\n",
    "class Rectangle:\n",
    "    def __init__ (self,length,width):\n",
    "        self.length=length\n",
    "        self.width=width\n",
    "    def area(self):\n",
    "        return self.length*self.width\n",
    "    def perimeter(self):\n",
    "        return 2*(self.length+self.width)\n",
    "    \n",
    "rectangle = Rectangle(1,2)\n",
    "print (\"Area:\",rectangle.area())\n",
    "print (\"Perimeter:\",rectangle.perimeter())"
   ]
  },
  {
   "cell_type": "code",
   "execution_count": 29,
   "id": "ac0fecaf",
   "metadata": {},
   "outputs": [
    {
     "name": "stdout",
     "output_type": "stream",
     "text": [
      "Average Marks: 84.0\n"
     ]
    }
   ],
   "source": [
    "# 5. Create a class Student with attributes name, roll_number, and marks. Implement a method to calculate the average marks.\n",
    "\n",
    "class student:\n",
    "    def __init__(self, name, roll_no, marks):\n",
    "        self.name = name\n",
    "        self.roll_no = roll_no\n",
    "        self.marks = marks\n",
    "\n",
    "    def average(self):\n",
    "        total_marks = sum(self.marks)\n",
    "        total_subjects = len(self.marks)\n",
    "        average_marks = total_marks / total_subjects\n",
    "        return average_marks\n",
    "\n",
    "Student = student(\"Ahmad\", 54, [80, 90, 80, 90, 80])\n",
    "print(\"Average Marks:\", Student.average())"
   ]
  },
  {
   "cell_type": "code",
   "execution_count": 31,
   "id": "45cf115b",
   "metadata": {},
   "outputs": [
    {
     "name": "stdout",
     "output_type": "stream",
     "text": [
      "Book: 1984, Author: George Orwell, Year: 1949\n"
     ]
    }
   ],
   "source": [
    "# 6. Create a class Book with attributes title, author, and publication_year.\n",
    "\n",
    "class Book: \n",
    "    def __init__(self, title, author, publication_year): \n",
    "        self.title = title \n",
    "        self.author = author \n",
    "        self.publication_year = publication_year \n",
    "        \n",
    "book1 = Book(\"1984\", \"George Orwell\", 1949) \n",
    "print(f\"Book: {book1.title}, Author: {book1.author}, Year: {book1.publication_year}\")"
   ]
  },
  {
   "cell_type": "code",
   "execution_count": 34,
   "id": "4791ae44",
   "metadata": {},
   "outputs": [
    {
     "name": "stdout",
     "output_type": "stream",
     "text": [
      "Employee: Ahmad, Salary: 50000, Designation: : Software Engineer\n"
     ]
    }
   ],
   "source": [
    "# 7. Create a class Employee with attributes name, salary, and designation.\n",
    "\n",
    "class Employee:\n",
    "    def __init__(self, name, salary, designation): \n",
    "        self.name = name\n",
    "        self.salary = salary \n",
    "        self.designation = designation\n",
    "        \n",
    "employee1 = Employee(\"Ahmad\", 50000, \"Software Engineer\") \n",
    "print(f\"Employee: {employee1.name}, Salary: {employee1.salary}, Designation: : {employee1.designation}\")"
   ]
  },
  {
   "cell_type": "code",
   "execution_count": 38,
   "id": "f220a027",
   "metadata": {},
   "outputs": [
    {
     "name": "stdout",
     "output_type": "stream",
     "text": [
      "Initial Balance: 1000\n",
      "Balance after deposit: 1500\n",
      "Balance after withdrawal: 1200\n",
      "Attempting to withdraw more than balance: Insufficient funds\n"
     ]
    }
   ],
   "source": [
    "# 8. Create a class Bank with attributes name, account_number, and balance. Implement methods to deposit and withdraw money.\n",
    "\n",
    "class Bank:\n",
    "    def __init__(self, name, account_number, balance):\n",
    "        self.name = name\n",
    "        self.account_number = account_number\n",
    "        self.balance = balance\n",
    "\n",
    "    def deposit(self, amount):\n",
    "        self.balance += amount\n",
    "        return self.balance\n",
    "\n",
    "    def withdraw(self, amount):\n",
    "        if amount <= self.balance:\n",
    "            self.balance -= amount\n",
    "        else:\n",
    "            return \"Insufficient funds\"\n",
    "        return self.balance\n",
    "\n",
    "# Creating an instance of Bank and demonstrating transactions\n",
    "bank_account = Bank(\"Ahmad\", 123456, 1000)\n",
    "print(f\"Initial Balance: {bank_account.balance}\")\n",
    "print(f\"Balance after deposit: {bank_account.deposit(500)}\")\n",
    "print(f\"Balance after withdrawal: {bank_account.withdraw(300)}\")\n",
    "print(f\"Attempting to withdraw more than balance: {bank_account.withdraw(1500)}\")\n",
    "\n"
   ]
  },
  {
   "cell_type": "code",
   "execution_count": 19,
   "id": "ff3dfd09",
   "metadata": {},
   "outputs": [],
   "source": [
    "# 9. Create a class Shape with a method to calculate area. \n",
    "# Create subclasses Circle, Rectangle, and Triangle that inherit from Shape and implement their specific area calculations.\n",
    "\n"
   ]
  },
  {
   "cell_type": "code",
   "execution_count": 20,
   "id": "bffab001",
   "metadata": {},
   "outputs": [],
   "source": [
    "# 10. Create a class Animal with attributes name and sound.\n",
    "#Create subclasses Dog, Cat, and Cow that inherit from Animal and implement their specific sounds.\n",
    "\n"
   ]
  },
  {
   "cell_type": "code",
   "execution_count": null,
   "id": "84188b42",
   "metadata": {},
   "outputs": [],
   "source": []
  }
 ],
 "metadata": {
  "kernelspec": {
   "display_name": "Python 3 (ipykernel)",
   "language": "python",
   "name": "python3"
  },
  "language_info": {
   "codemirror_mode": {
    "name": "ipython",
    "version": 3
   },
   "file_extension": ".py",
   "mimetype": "text/x-python",
   "name": "python",
   "nbconvert_exporter": "python",
   "pygments_lexer": "ipython3",
   "version": "3.9.12"
  }
 },
 "nbformat": 4,
 "nbformat_minor": 5
}
